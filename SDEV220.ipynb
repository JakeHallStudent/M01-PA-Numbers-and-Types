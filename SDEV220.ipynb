{
 "cells": [
  {
   "cell_type": "code",
   "execution_count": 1,
   "id": "356a75fe",
   "metadata": {},
   "outputs": [
    {
     "name": "stdout",
     "output_type": "stream",
     "text": [
      "3600\n"
     ]
    }
   ],
   "source": [
    "seconds = int(60)\n",
    "minutes = int(60)\n",
    "total = seconds * minutes\n",
    "print(total)"
   ]
  },
  {
   "cell_type": "markdown",
   "id": "1c603e98",
   "metadata": {},
   "source": [
    "There are 3600 seconds in 1 hour"
   ]
  },
  {
   "cell_type": "code",
   "execution_count": 3,
   "id": "18e4f48b",
   "metadata": {},
   "outputs": [
    {
     "name": "stdout",
     "output_type": "stream",
     "text": [
      "86400\n"
     ]
    }
   ],
   "source": [
    "seconds_per_hour = total\n",
    "seconds_per_day = seconds_per_hour * 24\n",
    "print(seconds_per_day)"
   ]
  },
  {
   "cell_type": "markdown",
   "id": "05c779b8",
   "metadata": {},
   "source": [
    "There are 86400 seconds in 1 day"
   ]
  },
  {
   "cell_type": "code",
   "execution_count": 11,
   "id": "7dbddb35",
   "metadata": {},
   "outputs": [
    {
     "name": "stdout",
     "output_type": "stream",
     "text": [
      "24.0\n"
     ]
    }
   ],
   "source": [
    "division = (seconds_per_day / seconds_per_hour)\n",
    "print(division)"
   ]
  },
  {
   "cell_type": "code",
   "execution_count": 12,
   "id": "58179416",
   "metadata": {},
   "outputs": [
    {
     "name": "stdout",
     "output_type": "stream",
     "text": [
      "24\n"
     ]
    }
   ],
   "source": [
    "division2 = (seconds_per_day // seconds_per_hour)\n",
    "print(division2)"
   ]
  },
  {
   "cell_type": "markdown",
   "id": "dacacb46",
   "metadata": {},
   "source": [
    "This number agreed with the floating-point value."
   ]
  }
 ],
 "metadata": {
  "kernelspec": {
   "display_name": "Python 3 (ipykernel)",
   "language": "python",
   "name": "python3"
  },
  "language_info": {
   "codemirror_mode": {
    "name": "ipython",
    "version": 3
   },
   "file_extension": ".py",
   "mimetype": "text/x-python",
   "name": "python",
   "nbconvert_exporter": "python",
   "pygments_lexer": "ipython3",
   "version": "3.11.4"
  }
 },
 "nbformat": 4,
 "nbformat_minor": 5
}
